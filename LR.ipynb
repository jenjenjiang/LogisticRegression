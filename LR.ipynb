import numpy as np
import pandas as pd
from sklearn.model_selection import train_test_split
from sklearn.linear_model import LogisticRegression

def sigmoid(z):
    return 1/(1 + np.exp(-z))

def step(g_y_hat, threshold=0.5):
    return np.where(g_y_hat >= threshold, 1, 0).reshape(-1, 1)


dt = dt[~dt["Age"].isna()] # Removed observations without Age
train, validation = train_test_split(dt, test_size=0.3, random_state=123)
X_train = train.loc[:, ["Age", "Fare"]].values #training data x 
y_train = train.loc[:, "Survived"].values #training data y 
logistic_clf = LogisticRegression()
logistic_clf.fit(X_train, y_train)
fit_intercept = logistic_clf.intercept_.reshape(-1, 1) #常數項係數
fit_coef = logistic_clf.coef_.reshape(-1, 1) #係數
thetas = np.concatenate([fit_intercept, fit_coef])

X_validation = validation.loc[:, ["Age", "Fare"]].values #validation data
ones = np.ones(X_validation.shape[0]).reshape(-1, 1) #一維轉二維. ones函数可以创建任意维度和元素个数的数组，其元素值均为1； 
X_validation = np.concatenate([ones, X_validation], axis=1) #Join a sequence of arrays along an existing axis.（按轴axis连接array组成一个新的array）
y_hat = np.dot(X_validation, thetas)
g_y_hat = sigmoid(y_hat)
y_pred = step(g_y_hat) #validation data 預測值
y_true = validation.loc[:, "Survived"].values.reshape(-1, 1) #validation data 實際值
print("Thetas from sklearn:")
print(thetas)
print("Before Sigmoid transform:")
print(y_hat[:5])
print("After Sigmoid transform:")
print(g_y_hat[:5])
print("After Step transform:")
print(y_pred[:5])
print("True condition:")
print(y_true[:5])
